{
 "cells": [
  {
   "cell_type": "code",
   "execution_count": 5,
   "id": "af408742",
   "metadata": {},
   "outputs": [
    {
     "name": "stdout",
     "output_type": "stream",
     "text": [
      "Stride = 1, Padding = 'VALID':\n",
      " [[0. 0. 0.]\n",
      " [0. 0. 0.]\n",
      " [0. 0. 0.]]\n",
      "\n",
      "Stride = 1, Padding = 'SAME':\n",
      " [[  4.   3.   2.   1.  -6.]\n",
      " [ -5.   0.   0.   0. -11.]\n",
      " [-10.   0.   0.   0. -16.]\n",
      " [-15.   0.   0.   0. -21.]\n",
      " [-46. -27. -28. -29. -56.]]\n",
      "\n",
      "Stride = 2, Padding = 'VALID':\n",
      " [[0. 0.]\n",
      " [0. 0.]]\n",
      "\n",
      "Stride = 2, Padding = 'SAME':\n",
      " [[  4.   2.  -6.]\n",
      " [-10.   0. -16.]\n",
      " [-46. -28. -56.]]\n"
     ]
    }
   ],
   "source": [
    "import numpy as np\n",
    "import tensorflow as tf\n",
    "\n",
    "# Define the 5x5 input matrix\n",
    "input_matrix = np.array([\n",
    "    [1, 2, 3, 4, 5],\n",
    "    [6, 7, 8, 9, 10],\n",
    "    [11, 12, 13, 14, 15],\n",
    "    [16, 17, 18, 19, 20],\n",
    "    [21, 22, 23, 24, 25]\n",
    "], dtype=np.float32)\n",
    "\n",
    "# Define the 3x3 kernel\n",
    "kernel = np.array([\n",
    "    [0, 1, 0],\n",
    "    [1, -4, 1],\n",
    "    [0, 1, 0]\n",
    "], dtype=np.float32)\n",
    "\n",
    "# Reshape input to match TensorFlow's format: \n",
    "input_tensor = input_matrix.reshape((1, 5, 5, 1)) #(batch, height, width, channels)\n",
    "kernel_tensor = kernel.reshape((3, 3, 1, 1))  #(filter_height, filter_width, in_channels, out_channels)\n",
    "\n",
    "# Function to perform convolution\n",
    "def perform_convolution(stride, padding):\n",
    "    result = tf.nn.conv2d(\n",
    "        input=input_tensor,\n",
    "        filters=kernel_tensor,\n",
    "        strides=[1, stride, stride, 1],\n",
    "        padding=padding\n",
    "    )\n",
    "    return result.numpy().squeeze()\n",
    "\n",
    "# Perform and print results\n",
    "print(\"Stride = 1, Padding = 'VALID':\\n\", perform_convolution(1, 'VALID'))\n",
    "print(\"\\nStride = 1, Padding = 'SAME':\\n\", perform_convolution(1, 'SAME'))\n",
    "print(\"\\nStride = 2, Padding = 'VALID':\\n\", perform_convolution(2, 'VALID'))\n",
    "print(\"\\nStride = 2, Padding = 'SAME':\\n\", perform_convolution(2, 'SAME'))"
   ]
  }
 ],
 "metadata": {
  "kernelspec": {
   "display_name": "Python 3",
   "language": "python",
   "name": "python3"
  },
  "language_info": {
   "codemirror_mode": {
    "name": "ipython",
    "version": 3
   },
   "file_extension": ".py",
   "mimetype": "text/x-python",
   "name": "python",
   "nbconvert_exporter": "python",
   "pygments_lexer": "ipython3",
   "version": "3.12.1"
  }
 },
 "nbformat": 4,
 "nbformat_minor": 5
}
