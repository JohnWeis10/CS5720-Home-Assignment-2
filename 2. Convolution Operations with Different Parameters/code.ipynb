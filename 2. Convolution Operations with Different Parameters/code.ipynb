{
 "cells": [
  {
   "cell_type": "markdown",
   "id": "b14f6abc",
   "metadata": {},
   "source": [
    "Question 2: Convolution Operations with Different Parameters (20 points)\n",
    "\n",
    "Task: Implement Convolution with Different Stride and Padding (10 points)\n",
    "\n",
    "Write a Python script using NumPy and TensorFlow/Keras to perform convolution on a 5×5 input matrix using a 3×3 kernel with varying parameters.\n",
    "\n",
    "1.\tDefine the following 5×5 input matrix:\n",
    " \n",
    "2.\tDefine the following 3×3 kernel:\n",
    " \n",
    "3.\tPerform convolution operations with:\n",
    "\n",
    "o\tStride = 1, Padding = ‘VALID’\n",
    "\n",
    "o\tStride = 1, Padding = ‘SAME’\n",
    "\n",
    "o\tStride = 2, Padding = ‘VALID’\n",
    "\n",
    "o\tStride = 2, Padding = ‘SAME’\n",
    "\n",
    "4.\tPrint the output feature maps for each case.\n",
    "\n",
    "Expected Output\n",
    "\n",
    "Print the output feature maps for\n",
    "\n",
    "o\tStride = 1, Padding = ‘VALID’\n",
    "o\tStride = 1, Padding = ‘SAME’\n",
    "o\tStride = 2, Padding = ‘VALID’\n",
    "o\tStride = 2, Padding = ‘SAME’\n",
    "\n"
   ]
  },
  {
   "cell_type": "code",
   "execution_count": 5,
   "id": "af408742",
   "metadata": {},
   "outputs": [
    {
     "name": "stdout",
     "output_type": "stream",
     "text": [
      "Stride = 1, Padding = 'VALID':\n",
      " [[0. 0. 0.]\n",
      " [0. 0. 0.]\n",
      " [0. 0. 0.]]\n",
      "\n",
      "Stride = 1, Padding = 'SAME':\n",
      " [[  4.   3.   2.   1.  -6.]\n",
      " [ -5.   0.   0.   0. -11.]\n",
      " [-10.   0.   0.   0. -16.]\n",
      " [-15.   0.   0.   0. -21.]\n",
      " [-46. -27. -28. -29. -56.]]\n",
      "\n",
      "Stride = 2, Padding = 'VALID':\n",
      " [[0. 0.]\n",
      " [0. 0.]]\n",
      "\n",
      "Stride = 2, Padding = 'SAME':\n",
      " [[  4.   2.  -6.]\n",
      " [-10.   0. -16.]\n",
      " [-46. -28. -56.]]\n"
     ]
    }
   ],
   "source": [
    "import numpy as np\n",
    "import tensorflow as tf\n",
    "\n",
    "# Define the 5x5 input matrix\n",
    "input_matrix = np.array([\n",
    "    [1, 2, 3, 4, 5],\n",
    "    [6, 7, 8, 9, 10],\n",
    "    [11, 12, 13, 14, 15],\n",
    "    [16, 17, 18, 19, 20],\n",
    "    [21, 22, 23, 24, 25]\n",
    "], dtype=np.float32)\n",
    "\n",
    "# Define the 3x3 kernel\n",
    "kernel = np.array([\n",
    "    [0, 1, 0],\n",
    "    [1, -4, 1],\n",
    "    [0, 1, 0]\n",
    "], dtype=np.float32)\n",
    "\n",
    "# Reshape input to match TensorFlow's format: \n",
    "input_tensor = input_matrix.reshape((1, 5, 5, 1)) #(batch, height, width, channels)\n",
    "kernel_tensor = kernel.reshape((3, 3, 1, 1))  #(filter_height, filter_width, in_channels, out_channels)\n",
    "\n",
    "# Function to perform convolution\n",
    "def perform_convolution(stride, padding):\n",
    "    result = tf.nn.conv2d(\n",
    "        input=input_tensor,\n",
    "        filters=kernel_tensor,\n",
    "        strides=[1, stride, stride, 1],\n",
    "        padding=padding\n",
    "    )\n",
    "    return result.numpy().squeeze()\n",
    "\n",
    "# Perform and print results\n",
    "print(\"Stride = 1, Padding = 'VALID':\\n\", perform_convolution(1, 'VALID'))\n",
    "print(\"\\nStride = 1, Padding = 'SAME':\\n\", perform_convolution(1, 'SAME'))\n",
    "print(\"\\nStride = 2, Padding = 'VALID':\\n\", perform_convolution(2, 'VALID'))\n",
    "print(\"\\nStride = 2, Padding = 'SAME':\\n\", perform_convolution(2, 'SAME'))"
   ]
  }
 ],
 "metadata": {
  "kernelspec": {
   "display_name": "Python 3",
   "language": "python",
   "name": "python3"
  },
  "language_info": {
   "codemirror_mode": {
    "name": "ipython",
    "version": 3
   },
   "file_extension": ".py",
   "mimetype": "text/x-python",
   "name": "python",
   "nbconvert_exporter": "python",
   "pygments_lexer": "ipython3",
   "version": "3.12.1"
  }
 },
 "nbformat": 4,
 "nbformat_minor": 5
}
